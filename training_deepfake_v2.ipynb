{
 "cells": [
  {
   "cell_type": "markdown",
   "id": "b4f97439-aba6-49c5-baad-72e6fb16183f",
   "metadata": {},
   "source": [
    "## Step 1: Loading the FaceForensics Dataset and Extracting the faces from the videos "
   ]
  },
  {
   "cell_type": "code",
   "execution_count": null,
   "id": "dddb558d-7f55-4126-b92e-7f8e95c6bc49",
   "metadata": {},
   "outputs": [],
   "source": [
    "import os\n",
    "import cv2\n",
    "import dlib\n",
    "from tqdm import tqdm\n",
    "import random\n",
    "import shutil\n",
    "from PIL import Image\n",
    "import torch\n",
    "from torchvision import transforms\n",
    "from torch.utils.data import DataLoader\n",
    "import torch.nn as nn\n",
    "import timm"
   ]
  },
  {
   "cell_type": "code",
   "execution_count": 1,
   "id": "a1fd1717-b72e-4881-855e-2d4349c548ef",
   "metadata": {},
   "outputs": [
    {
     "name": "stdout",
     "output_type": "stream",
     "text": [
      "Library Versions:\n"
     ]
    },
    {
     "ename": "NameError",
     "evalue": "name 'cv2' is not defined",
     "output_type": "error",
     "traceback": [
      "\u001b[1;31m---------------------------------------------------------------------------\u001b[0m",
      "\u001b[1;31mNameError\u001b[0m                                 Traceback (most recent call last)",
      "Cell \u001b[1;32mIn[1], line 2\u001b[0m\n\u001b[0;32m      1\u001b[0m \u001b[38;5;28mprint\u001b[39m(\u001b[38;5;124m\"\u001b[39m\u001b[38;5;124mLibrary Versions:\u001b[39m\u001b[38;5;124m\"\u001b[39m)\n\u001b[1;32m----> 2\u001b[0m \u001b[38;5;28mprint\u001b[39m(\u001b[38;5;124mf\u001b[39m\u001b[38;5;124m\"\u001b[39m\u001b[38;5;124mOpenCV (cv2): \u001b[39m\u001b[38;5;132;01m{\u001b[39;00m\u001b[43mcv2\u001b[49m\u001b[38;5;241m.\u001b[39m__version__\u001b[38;5;132;01m}\u001b[39;00m\u001b[38;5;124m\"\u001b[39m)\n\u001b[0;32m      3\u001b[0m \u001b[38;5;28mprint\u001b[39m(\u001b[38;5;124mf\u001b[39m\u001b[38;5;124m\"\u001b[39m\u001b[38;5;124mdlib: \u001b[39m\u001b[38;5;132;01m{\u001b[39;00mdlib\u001b[38;5;241m.\u001b[39m__version__\u001b[38;5;132;01m}\u001b[39;00m\u001b[38;5;124m\"\u001b[39m)\n\u001b[0;32m      4\u001b[0m \u001b[38;5;28mprint\u001b[39m(\u001b[38;5;124mf\u001b[39m\u001b[38;5;124m\"\u001b[39m\u001b[38;5;124mtqdm: \u001b[39m\u001b[38;5;132;01m{\u001b[39;00mtqdm\u001b[38;5;241m.\u001b[39m__version__\u001b[38;5;132;01m}\u001b[39;00m\u001b[38;5;124m\"\u001b[39m)\n",
      "\u001b[1;31mNameError\u001b[0m: name 'cv2' is not defined"
     ]
    }
   ],
   "source": [
    "print(\"Library Versions:\")\n",
    "print(f\"OpenCV (cv2): {cv2.__version__}\")\n",
    "print(f\"dlib: {dlib.__version__}\")\n",
    "print(f\"tqdm: {tqdm.__version__}\")\n",
    "print(f\"Pillow (PIL): {PIL.__version__}\")\n",
    "print(f\"torch: {torch.__version__}\")\n",
    "print(f\"torchvision: {torchvision.__version__}\")\n",
    "print(f\"timm: {timm.__version__}\")"
   ]
  },
  {
   "cell_type": "code",
   "execution_count": 2,
   "id": "c9a19606-a5bb-4a97-8439-854847685ff1",
   "metadata": {},
   "outputs": [
    {
     "name": "stdout",
     "output_type": "stream",
     "text": [
      "Processing real videos...\n"
     ]
    },
    {
     "name": "stderr",
     "output_type": "stream",
     "text": [
      "100%|██████████████████████████████████████████████████████████████████████████████| 1000/1000 [52:29<00:00,  3.15s/it]\n"
     ]
    },
    {
     "name": "stdout",
     "output_type": "stream",
     "text": [
      "Processing Deepfakes videos...\n"
     ]
    },
    {
     "name": "stderr",
     "output_type": "stream",
     "text": [
      "100%|██████████████████████████████████████████████████████████████████████████████| 1000/1000 [53:06<00:00,  3.19s/it]\n"
     ]
    },
    {
     "name": "stdout",
     "output_type": "stream",
     "text": [
      "Processing Face2Face videos...\n"
     ]
    },
    {
     "name": "stderr",
     "output_type": "stream",
     "text": [
      "100%|████████████████████████████████████████████████████████████████████████████| 1000/1000 [1:04:30<00:00,  3.87s/it]\n"
     ]
    },
    {
     "name": "stdout",
     "output_type": "stream",
     "text": [
      "Processing FaceShifter videos...\n"
     ]
    },
    {
     "name": "stderr",
     "output_type": "stream",
     "text": [
      "100%|████████████████████████████████████████████████████████████████████████████| 1000/1000 [1:02:50<00:00,  3.77s/it]\n"
     ]
    },
    {
     "name": "stdout",
     "output_type": "stream",
     "text": [
      "Processing FaceSwap videos...\n"
     ]
    },
    {
     "name": "stderr",
     "output_type": "stream",
     "text": [
      "100%|██████████████████████████████████████████████████████████████████████████████| 1000/1000 [43:37<00:00,  2.62s/it]\n"
     ]
    },
    {
     "name": "stdout",
     "output_type": "stream",
     "text": [
      "Processing NeuralTextures videos...\n"
     ]
    },
    {
     "name": "stderr",
     "output_type": "stream",
     "text": [
      "100%|██████████████████████████████████████████████████████████████████████████████| 1000/1000 [41:28<00:00,  2.49s/it]"
     ]
    },
    {
     "name": "stdout",
     "output_type": "stream",
     "text": [
      "\n",
      "Total faces extracted: 101653\n"
     ]
    },
    {
     "name": "stderr",
     "output_type": "stream",
     "text": [
      "\n"
     ]
    }
   ],
   "source": [
    "def extract_faces(video_path, output_dir, frame_skip=30):\n",
    "    \"\"\"Extract faces from a single video with 1.5x padding\"\"\"\n",
    "    detector = dlib.get_frontal_face_detector()\n",
    "    cap = cv2.VideoCapture(video_path)\n",
    "    frame_id = 0\n",
    "    saved_count = 0\n",
    "    \n",
    "    while cap.isOpened():\n",
    "        ret, frame = cap.read()\n",
    "        if not ret:\n",
    "            break\n",
    "            \n",
    "        if frame_id % frame_skip == 0:\n",
    "            rgb = cv2.cvtColor(frame, cv2.COLOR_BGR2RGB)\n",
    "            faces = detector(rgb)\n",
    "            \n",
    "            for i, face in enumerate(faces):\n",
    "                x, y, w, h = face.left(), face.top(), face.width(), face.height()\n",
    "                # Expand bounding box by 1.5x\n",
    "                new_w, new_h = int(w * 1.5), int(h * 1.5)\n",
    "                x = max(0, x - (new_w - w) // 2)\n",
    "                y = max(0, y - (new_h - h) // 2)\n",
    "                cropped = frame[y:y+new_h, x:x+new_w]\n",
    "                \n",
    "                if cropped.size > 0:\n",
    "                    video_name = os.path.splitext(os.path.basename(video_path))[0]\n",
    "                    output_path = os.path.join(output_dir, f\"{video_name}_f{frame_id}_face{i}.jpg\")\n",
    "                    cv2.imwrite(output_path, cropped)\n",
    "                    saved_count += 1\n",
    "        \n",
    "        frame_id += 1\n",
    "    \n",
    "    cap.release()\n",
    "    return saved_count\n",
    "\n",
    "def process_ff_c23(root_dir, output_root=\"extracted_faces\"):\n",
    "    \"\"\"Process FaceForensics++ C23 dataset\"\"\"\n",
    "    os.makedirs(output_root, exist_ok=True)\n",
    "    total_files = 0\n",
    "    \n",
    "    # Process real videos\n",
    "    real_dir = os.path.join(root_dir, \"original\")\n",
    "    real_output = os.path.join(output_root, \"real\")\n",
    "    os.makedirs(real_output, exist_ok=True)\n",
    "    \n",
    "    print(\"Processing real videos...\")\n",
    "    for video_file in tqdm(os.listdir(real_dir)):\n",
    "        if video_file.endswith(\".mp4\"):\n",
    "            video_path = os.path.join(real_dir, video_file)\n",
    "            total_files += extract_faces(video_path, real_output)\n",
    "    \n",
    "    # Process fake videos (all manipulation methods)\n",
    "    methods = [\"Deepfakes\", \"Face2Face\", \"FaceShifter\", \"FaceSwap\", \"NeuralTextures\"]\n",
    "    \n",
    "    for method in methods:\n",
    "        fake_dir = os.path.join(root_dir, method)\n",
    "        fake_output = os.path.join(output_root, method.lower())\n",
    "        os.makedirs(fake_output, exist_ok=True)\n",
    "        \n",
    "        print(f\"Processing {method} videos...\")\n",
    "        for video_file in tqdm(os.listdir(fake_dir)):\n",
    "            if video_file.endswith(\".mp4\"):\n",
    "                video_path = os.path.join(fake_dir, video_file)\n",
    "                total_files += extract_faces(video_path, fake_output)\n",
    "    \n",
    "    print(f\"\\nTotal faces extracted: {total_files}\")\n",
    "\n",
    "# Run the extraction\n",
    "process_ff_c23(\n",
    "    root_dir=\"FaceForensics++_C23\",  # Update with your actual path\n",
    "    output_root=\"./extracted_faces_c23\"\n",
    ")"
   ]
  },
  {
   "cell_type": "markdown",
   "id": "41ddd732-d27b-467f-88e4-e2c5fe50b391",
   "metadata": {},
   "source": [
    "## Spliting the dataset into Train , Test and Val"
   ]
  },
  {
   "cell_type": "markdown",
   "id": "8f756624-968f-4104-9b1f-0229864b243a",
   "metadata": {},
   "source": [
    " ###### For simplicity, we take 7000 images from each class i.e 42000 images.\n",
    " ###### Each of these classes are split in the ratio 70:15:15 "
   ]
  },
  {
   "cell_type": "code",
   "execution_count": 1,
   "id": "20f5781b-8513-4065-bba1-f63f550724e6",
   "metadata": {},
   "outputs": [
    {
     "name": "stderr",
     "output_type": "stream",
     "text": [
      "train/deepfakes: 100%|███████████████████████████████████████████████████████████| 4900/4900 [00:26<00:00, 183.46img/s]\n",
      "val/deepfakes: 100%|█████████████████████████████████████████████████████████████| 1050/1050 [00:05<00:00, 186.46img/s]\n",
      "test/deepfakes: 100%|████████████████████████████████████████████████████████████| 1050/1050 [00:05<00:00, 190.82img/s]\n",
      "train/face2face: 100%|███████████████████████████████████████████████████████████| 4900/4900 [00:26<00:00, 182.30img/s]\n",
      "val/face2face: 100%|█████████████████████████████████████████████████████████████| 1050/1050 [00:05<00:00, 193.29img/s]\n",
      "test/face2face: 100%|████████████████████████████████████████████████████████████| 1050/1050 [00:05<00:00, 175.78img/s]\n",
      "train/faceshifter: 100%|█████████████████████████████████████████████████████████| 4900/4900 [00:27<00:00, 180.73img/s]\n",
      "val/faceshifter: 100%|███████████████████████████████████████████████████████████| 1050/1050 [00:05<00:00, 195.99img/s]\n",
      "test/faceshifter: 100%|██████████████████████████████████████████████████████████| 1050/1050 [00:05<00:00, 200.89img/s]\n",
      "train/faceswap: 100%|████████████████████████████████████████████████████████████| 4900/4900 [00:25<00:00, 192.72img/s]\n",
      "val/faceswap: 100%|██████████████████████████████████████████████████████████████| 1050/1050 [00:05<00:00, 206.30img/s]\n",
      "test/faceswap: 100%|█████████████████████████████████████████████████████████████| 1050/1050 [00:05<00:00, 204.09img/s]\n",
      "train/neuraltextures: 100%|██████████████████████████████████████████████████████| 4900/4900 [00:27<00:00, 176.09img/s]\n",
      "val/neuraltextures: 100%|████████████████████████████████████████████████████████| 1050/1050 [00:06<00:00, 173.61img/s]\n",
      "test/neuraltextures: 100%|███████████████████████████████████████████████████████| 1050/1050 [00:06<00:00, 168.48img/s]\n",
      "train/real: 100%|████████████████████████████████████████████████████████████████| 4900/4900 [00:25<00:00, 189.61img/s]\n",
      "val/real: 100%|██████████████████████████████████████████████████████████████████| 1050/1050 [00:05<00:00, 206.41img/s]\n",
      "test/real: 100%|█████████████████████████████████████████████████████████████████| 1050/1050 [00:05<00:00, 202.12img/s]"
     ]
    },
    {
     "name": "stdout",
     "output_type": "stream",
     "text": [
      "New split created at new_split_dataset\n"
     ]
    },
    {
     "name": "stderr",
     "output_type": "stream",
     "text": [
      "\n"
     ]
    }
   ],
   "source": [
    "def create_balanced_split(\n",
    "    source_dir: str,\n",
    "    target_dir: str,\n",
    "    classes: list[str],\n",
    "    per_class: int = 7000,\n",
    "    ratios: tuple[float, float, float] = (0.7, 0.15, 0.15),\n",
    "    seed: int = 42,\n",
    "):\n",
    "    \"\"\"\n",
    "    From each class folder in source_dir, sample per_class images,\n",
    "    split them into train/val/test according to ratios,\n",
    "    and copy into target_dir maintaining class subfolders.\n",
    "    \"\"\"\n",
    "    assert sum(ratios) == 1.0, \"ratios must sum to 1.0\"\n",
    "    splits = ['train', 'val', 'test']\n",
    "    # compute absolute counts\n",
    "    train_n = int(ratios[0] * per_class)\n",
    "    val_n   = int(ratios[1] * per_class)\n",
    "    test_n  = per_class - train_n - val_n\n",
    "\n",
    "    random.seed(seed)\n",
    "\n",
    "    # make directory tree\n",
    "    for split in splits:\n",
    "        for cls in classes:\n",
    "            os.makedirs(os.path.join(target_dir, split, cls), exist_ok=True)\n",
    "\n",
    "    for cls in classes:\n",
    "        cls_src = os.path.join(source_dir, cls)\n",
    "        all_files = [\n",
    "            os.path.join(cls_src, f)\n",
    "            for f in os.listdir(cls_src)\n",
    "            if f.lower().endswith(('.jpg', '.jpeg', '.png'))\n",
    "        ]\n",
    "        if len(all_files) < per_class:\n",
    "            raise ValueError(f\"Not enough images in {cls_src}: found {len(all_files)} < {per_class}\")\n",
    "\n",
    "        # sample and shuffle\n",
    "        sampled = random.sample(all_files, per_class)\n",
    "        random.shuffle(sampled)\n",
    "\n",
    "        # assign\n",
    "        train_files = sampled[:train_n]\n",
    "        val_files   = sampled[train_n:train_n+val_n]\n",
    "        test_files  = sampled[train_n+val_n:]\n",
    "\n",
    "        # copy with progress bar\n",
    "        for split_name, file_list in zip(splits, (train_files, val_files, test_files)):\n",
    "            dst_folder = os.path.join(target_dir, split_name, cls)\n",
    "            for src_path in tqdm(file_list, desc=f\"{split_name}/{cls}\", unit=\"img\"):\n",
    "                fname = os.path.basename(src_path)\n",
    "                dst_path = os.path.join(dst_folder, fname)\n",
    "                shutil.copy2(src_path, dst_path)\n",
    "\n",
    "if __name__ == \"__main__\":\n",
    "    SOURCE_DIR = \"extracted_faces_c23\"    # your original 7-class folder\n",
    "    TARGET_DIR = \"new_split_dataset\" # where the new train/val/test will go\n",
    "    CLASSES    = [\n",
    "        \"deepfakes\", \"face2face\", \"faceshifter\",\n",
    "        \"faceswap\", \"neuraltextures\", \"real\"\n",
    "    ]\n",
    "    create_balanced_split(\n",
    "        source_dir=SOURCE_DIR,\n",
    "        target_dir=TARGET_DIR,\n",
    "        classes=CLASSES,\n",
    "        per_class=7000,\n",
    "        ratios=(0.7, 0.15, 0.15),\n",
    "        seed=1234\n",
    "    )\n",
    "    print(\"New split created at\", TARGET_DIR)"
   ]
  },
  {
   "cell_type": "code",
   "execution_count": 4,
   "id": "3553a69b-35b9-49a7-a495-5b005f0f5a12",
   "metadata": {},
   "outputs": [
    {
     "name": "stdout",
     "output_type": "stream",
     "text": [
      "\n",
      "📁 Counting in: new_split_dataset\\train\n",
      "  - deepfakes      : 4900 images\n",
      "  - face2face      : 4900 images\n",
      "  - faceshifter    : 4900 images\n",
      "  - faceswap       : 4900 images\n",
      "  - neuraltextures : 4900 images\n",
      "  - real           : 4900 images\n",
      "✅ Total in train: 29400 images\n",
      "\n",
      "📁 Counting in: new_split_dataset\\val\n",
      "  - deepfakes      : 1050 images\n",
      "  - face2face      : 1050 images\n",
      "  - faceshifter    : 1050 images\n",
      "  - faceswap       : 1050 images\n",
      "  - neuraltextures : 1050 images\n",
      "  - real           : 1050 images\n",
      "✅ Total in val: 6300 images\n",
      "\n",
      "📁 Counting in: new_split_dataset\\test\n",
      "  - deepfakes      : 1050 images\n",
      "  - face2face      : 1050 images\n",
      "  - faceshifter    : 1050 images\n",
      "  - faceswap       : 1050 images\n",
      "  - neuraltextures : 1050 images\n",
      "  - real           : 1050 images\n",
      "✅ Total in test: 6300 images\n",
      "\n",
      "🧮 Grand Total across all splits: 42000 images\n"
     ]
    }
   ],
   "source": [
    "def count_images_in_split(split_dir):\n",
    "    \"\"\"\n",
    "    Counts images in each class folder under the given split (train/val/test).\n",
    "    \"\"\"\n",
    "    total = 0\n",
    "    print(f\"\\n📁 Counting in: {split_dir}\")\n",
    "    \n",
    "    for class_name in os.listdir(split_dir):\n",
    "        class_dir = os.path.join(split_dir, class_name)\n",
    "        if not os.path.isdir(class_dir):\n",
    "            continue\n",
    "        \n",
    "        count = sum(\n",
    "            1 for fname in os.listdir(class_dir)\n",
    "            if fname.lower().endswith(('.jpg', '.jpeg', '.png'))\n",
    "        )\n",
    "        total += count\n",
    "        print(f\"  - {class_name:<15}: {count} images\")\n",
    "    \n",
    "    print(f\"✅ Total in {os.path.basename(split_dir)}: {total} images\")\n",
    "    return total\n",
    "\n",
    "# === Main Count ===\n",
    "base_dir = \"new_split_dataset\"\n",
    "grand_total = 0\n",
    "\n",
    "for split in ['train', 'val', 'test']:\n",
    "    split_path = os.path.join(base_dir, split)\n",
    "    grand_total += count_images_in_split(split_path)\n",
    "\n",
    "print(f\"\\n🧮 Grand Total across all splits: {grand_total} images\")"
   ]
  },
  {
   "cell_type": "markdown",
   "id": "4a8171bd-9e55-4467-886c-d0026bb41567",
   "metadata": {},
   "source": [
    "## Data leveling with lazy loading"
   ]
  },
  {
   "cell_type": "code",
   "execution_count": 3,
   "id": "8e40c090-cd37-435d-8182-4616a14abde9",
   "metadata": {},
   "outputs": [
    {
     "name": "stdout",
     "output_type": "stream",
     "text": [
      "📁 Processing: deepfakes (label=0)\n",
      "📁 Processing: face2face (label=0)\n",
      "📁 Processing: faceshifter (label=0)\n",
      "📁 Processing: faceswap (label=0)\n",
      "📁 Processing: neuraltextures (label=0)\n",
      "📁 Processing: real (label=1)\n",
      "\n",
      "✅ Loaded 29400 images\n",
      "Batch 1: torch.Size([8, 3, 256, 256]), Labels: tensor([1, 1, 0, 0, 0])\n",
      "Batch 2: torch.Size([8, 3, 256, 256]), Labels: tensor([0, 0, 0, 0, 0])\n",
      "Batch 3: torch.Size([8, 3, 256, 256]), Labels: tensor([0, 1, 0, 1, 0])\n"
     ]
    }
   ],
   "source": [
    "# path to the train folder\n",
    "base_dir = \"new_split_dataset/train\"\n",
    "\n",
    "# transformation code \n",
    "transform = transforms.Compose([\n",
    "    transforms.Resize((256, 256)),\n",
    "    transforms.ToTensor(),\n",
    "    transforms.Normalize([0.5]*3, [0.5]*3)\n",
    "])\n",
    "\n",
    "# Main loop of image loading\n",
    "images = []\n",
    "labels = []\n",
    "\n",
    "for class_name in sorted(os.listdir(base_dir)):\n",
    "    class_path = os.path.join(base_dir, class_name)\n",
    "    if not os.path.isdir(class_path):\n",
    "        continue\n",
    "\n",
    "    label = 1 if class_name.lower() == \"real\" else 0\n",
    "    print(f\"📁 Processing: {class_name} (label={label})\")\n",
    "\n",
    "    for fname in os.listdir(class_path):\n",
    "        if fname.lower().endswith((\".jpg\", \".jpeg\", \".png\")):\n",
    "            img_path = os.path.join(class_path, fname)\n",
    "            try:\n",
    "                img = Image.open(img_path).convert(\"RGB\")\n",
    "                img_tensor = transform(img)\n",
    "                images.append(img_tensor)\n",
    "                labels.append(label)\n",
    "            except Exception as e:\n",
    "                print(f\"[WARNING] Skipped {img_path}: {e}\")\n",
    "\n",
    "# --- Stack into tensors ---\n",
    "image_tensor = torch.stack(images)\n",
    "label_tensor = torch.tensor(labels, dtype=torch.long)\n",
    "\n",
    "print(f\"\\n✅ Loaded {len(image_tensor)} images\")\n",
    "\n",
    "# --- Creating Dataloader (single worker to avoid pickling) ---\n",
    "from torch.utils.data import TensorDataset\n",
    "dataset = TensorDataset(image_tensor, label_tensor)\n",
    "loader = DataLoader(dataset, batch_size=8, shuffle=True, num_workers=0)\n",
    "\n",
    "# --- Previewing  a few batches of tensors ---\n",
    "for i, (x, y) in enumerate(loader):\n",
    "    print(f\"Batch {i+1}: {x.shape}, Labels: {y[:5]}\")\n",
    "    if i == 2:\n",
    "        break"
   ]
  },
  {
   "cell_type": "code",
   "execution_count": 4,
   "id": "36932c00-7502-4218-a2d0-2cba74370c36",
   "metadata": {},
   "outputs": [],
   "source": [
    "train_image_tensor = image_tensor\n",
    "train_label_tensor = label_tensor"
   ]
  },
  {
   "cell_type": "code",
   "execution_count": 5,
   "id": "703a7240-3ea6-4604-89f0-147a3fd389dc",
   "metadata": {},
   "outputs": [
    {
     "name": "stdout",
     "output_type": "stream",
     "text": [
      "torch.Size([29400, 3, 256, 256])\n",
      "torch.Size([29400])\n"
     ]
    }
   ],
   "source": [
    "print(train_image_tensor.shape)   \n",
    "print(train_label_tensor.shape)"
   ]
  },
  {
   "cell_type": "code",
   "execution_count": 14,
   "id": "734c8f57-35b2-4d19-ba1b-56462a162e18",
   "metadata": {},
   "outputs": [
    {
     "name": "stdout",
     "output_type": "stream",
     "text": [
      "📁 Processing: deepfakes (label=0)\n",
      "📁 Processing: face2face (label=0)\n",
      "📁 Processing: faceshifter (label=0)\n",
      "📁 Processing: faceswap (label=0)\n",
      "📁 Processing: neuraltextures (label=0)\n",
      "📁 Processing: real (label=1)\n",
      "\n",
      "✅ Loaded 6300 images\n",
      "Batch 1: torch.Size([8, 3, 256, 256]), Labels: tensor([0, 0, 0, 1, 0])\n",
      "Batch 2: torch.Size([8, 3, 256, 256]), Labels: tensor([0, 1, 1, 1, 0])\n",
      "Batch 3: torch.Size([8, 3, 256, 256]), Labels: tensor([0, 0, 0, 1, 0])\n"
     ]
    }
   ],
   "source": [
    "# setting the test dataset folder path\n",
    "base_dir = \"new_split_dataset/test\"\n",
    "\n",
    "# Code for transformation\n",
    "transform = transforms.Compose([\n",
    "    transforms.Resize((256, 256)),\n",
    "    transforms.ToTensor(),\n",
    "    transforms.Normalize([0.5]*3, [0.5]*3)\n",
    "])\n",
    "\n",
    "# Loop for loading images \n",
    "images = []\n",
    "labels = []\n",
    "\n",
    "for class_name in sorted(os.listdir(base_dir)):\n",
    "    class_path = os.path.join(base_dir, class_name)\n",
    "    if not os.path.isdir(class_path):\n",
    "        continue\n",
    "\n",
    "    label = 1 if class_name.lower() == \"real\" else 0\n",
    "    print(f\"📁 Processing: {class_name} (label={label})\")\n",
    "\n",
    "    for fname in os.listdir(class_path):\n",
    "        if fname.lower().endswith((\".jpg\", \".jpeg\", \".png\")):\n",
    "            img_path = os.path.join(class_path, fname)\n",
    "            try:\n",
    "                img = Image.open(img_path).convert(\"RGB\")\n",
    "                img_tensor = transform(img)\n",
    "                images.append(img_tensor)\n",
    "                labels.append(label)\n",
    "            except Exception as e:\n",
    "                print(f\"[WARNING] Skipped {img_path}: {e}\")\n",
    "\n",
    "# --- Stack into tensors ---\n",
    "image_tensor = torch.stack(images)\n",
    "label_tensor = torch.tensor(labels, dtype=torch.long)\n",
    "\n",
    "print(f\"\\n✅ Loaded {len(image_tensor)} images\")\n",
    "\n",
    "# --- Create DataLoader (single worker to avoid pickling) ---\n",
    "from torch.utils.data import TensorDataset\n",
    "dataset = TensorDataset(image_tensor, label_tensor)\n",
    "loader = DataLoader(dataset, batch_size=8, shuffle=True, num_workers=0)\n",
    "\n",
    "# --- Preview a few batches ---\n",
    "for i, (x, y) in enumerate(loader):\n",
    "    print(f\"Batch {i+1}: {x.shape}, Labels: {y[:5]}\")\n",
    "    if i == 2:\n",
    "        break"
   ]
  },
  {
   "cell_type": "code",
   "execution_count": 15,
   "id": "ad946905-e946-4651-b98c-2e5769902532",
   "metadata": {},
   "outputs": [],
   "source": [
    "test_image_tensor = image_tensor\n",
    "test_label_tensor = label_tensor"
   ]
  },
  {
   "cell_type": "code",
   "execution_count": 16,
   "id": "3be8168b-b082-4faa-822a-d3f9fb0d05ff",
   "metadata": {},
   "outputs": [
    {
     "name": "stdout",
     "output_type": "stream",
     "text": [
      "torch.Size([6300, 3, 256, 256])\n",
      "torch.Size([6300])\n"
     ]
    }
   ],
   "source": [
    "print(test_image_tensor.shape)   \n",
    "print(test_label_tensor.shape)"
   ]
  },
  {
   "cell_type": "code",
   "execution_count": 21,
   "id": "6c12fbf4-c4ac-4121-83cc-703ddd60b3e8",
   "metadata": {},
   "outputs": [
    {
     "name": "stdout",
     "output_type": "stream",
     "text": [
      "📁 Processing: deepfakes (label=0)\n",
      "📁 Processing: face2face (label=0)\n",
      "📁 Processing: faceshifter (label=0)\n",
      "📁 Processing: faceswap (label=0)\n",
      "📁 Processing: neuraltextures (label=0)\n",
      "📁 Processing: real (label=1)\n",
      "\n",
      "✅ Loaded 6300 images\n",
      "Batch 1: torch.Size([8, 3, 256, 256]), Labels: tensor([1, 0, 0, 0, 1])\n",
      "Batch 2: torch.Size([8, 3, 256, 256]), Labels: tensor([0, 0, 0, 0, 0])\n",
      "Batch 3: torch.Size([8, 3, 256, 256]), Labels: tensor([0, 0, 0, 0, 0])\n"
     ]
    }
   ],
   "source": [
    "# --- Set root path ---\n",
    "base_dir = \"new_split_dataset/val\"\n",
    "\n",
    "# --- Transform ---\n",
    "transform = transforms.Compose([\n",
    "    transforms.Resize((256, 256)),\n",
    "    transforms.ToTensor(),\n",
    "    transforms.Normalize([0.5]*3, [0.5]*3)\n",
    "])\n",
    "\n",
    "# --- Image loading loop ---\n",
    "images = []\n",
    "labels = []\n",
    "\n",
    "for class_name in sorted(os.listdir(base_dir)):\n",
    "    class_path = os.path.join(base_dir, class_name)\n",
    "    if not os.path.isdir(class_path):\n",
    "        continue\n",
    "\n",
    "    label = 1 if class_name.lower() == \"real\" else 0\n",
    "    print(f\"📁 Processing: {class_name} (label={label})\")\n",
    "\n",
    "    for fname in os.listdir(class_path):\n",
    "        if fname.lower().endswith((\".jpg\", \".jpeg\", \".png\")):\n",
    "            img_path = os.path.join(class_path, fname)\n",
    "            try:\n",
    "                img = Image.open(img_path).convert(\"RGB\")\n",
    "                img_tensor = transform(img)\n",
    "                images.append(img_tensor)\n",
    "                labels.append(label)\n",
    "            except Exception as e:\n",
    "                print(f\"[WARNING] Skipped {img_path}: {e}\")\n",
    "\n",
    "# --- Stack into tensors ---\n",
    "image_tensor = torch.stack(images)\n",
    "label_tensor = torch.tensor(labels, dtype=torch.long)\n",
    "\n",
    "print(f\"\\n✅ Loaded {len(image_tensor)} images\")\n",
    "\n",
    "# --- Create DataLoader (single worker to avoid pickling) ---\n",
    "from torch.utils.data import TensorDataset\n",
    "dataset = TensorDataset(image_tensor, label_tensor)\n",
    "loader = DataLoader(dataset, batch_size=8, shuffle=True, num_workers=0)\n",
    "\n",
    "# --- Preview a few batches ---\n",
    "for i, (x, y) in enumerate(loader):\n",
    "    print(f\"Batch {i+1}: {x.shape}, Labels: {y[:5]}\")\n",
    "    if i == 2:\n",
    "        break"
   ]
  },
  {
   "cell_type": "code",
   "execution_count": 22,
   "id": "e0eb6dfe-4f4a-4995-96af-22b65bdbd2b9",
   "metadata": {},
   "outputs": [],
   "source": [
    "val_image_tensor = image_tensor\n",
    "val_label_tensor = label_tensor"
   ]
  },
  {
   "cell_type": "code",
   "execution_count": 23,
   "id": "48129242-5e9b-4c59-bdb8-1a1fb93aa2b5",
   "metadata": {},
   "outputs": [
    {
     "name": "stdout",
     "output_type": "stream",
     "text": [
      "torch.Size([6300, 3, 256, 256])\n",
      "torch.Size([6300])\n"
     ]
    }
   ],
   "source": [
    "print(val_image_tensor.shape)   \n",
    "print(val_label_tensor.shape)"
   ]
  },
  {
   "cell_type": "code",
   "execution_count": 24,
   "id": "7ec74137-770f-4950-9e9e-4516fa33c9d0",
   "metadata": {},
   "outputs": [],
   "source": [
    "train_dataset = TensorDataset(train_image_tensor, train_label_tensor)\n",
    "val_dataset = TensorDataset(val_image_tensor, val_label_tensor)\n",
    "test_dataset = TensorDataset(test_image_tensor, test_label_tensor)\n",
    "\n",
    "train_loader = DataLoader(train_dataset, batch_size=8, shuffle=True)\n",
    "val_loader = DataLoader(val_dataset, batch_size=8, shuffle=False)\n",
    "test_loader = DataLoader(test_dataset, batch_size=8, shuffle=False)"
   ]
  },
  {
   "cell_type": "markdown",
   "id": "fbd99d36-3880-49f4-b693-507f1f425d24",
   "metadata": {},
   "source": [
    "## Model Setup (Xception + Loss + Optimizer)"
   ]
  },
  {
   "cell_type": "code",
   "execution_count": 25,
   "id": "eb941203-89bf-40cd-914c-d6bb48c82cc1",
   "metadata": {},
   "outputs": [],
   "source": [
    "# checking the availability of Cuda GPU else we will switch to CPU \n",
    "device = torch.device(\"cuda\" if torch.cuda.is_available() else \"cpu\")\n",
    "\n",
    "# loading the xception model \n",
    "model = timm.create_model('xception', pretrained=True, num_classes=1)\n",
    "model = model.to(device)\n",
    "\n",
    "# Creating the loss function and optimizer here we have used the Adam optimizer \n",
    "criterion = nn.BCEWithLogitsLoss()\n",
    "optimizer = torch.optim.Adam(model.parameters(), lr=1e-4)"
   ]
  },
  {
   "cell_type": "markdown",
   "id": "74aa2cfd-0e57-405c-9582-d9363dbd862b",
   "metadata": {},
   "source": [
    "## Training and Validation Loop"
   ]
  },
  {
   "cell_type": "code",
   "execution_count": 26,
   "id": "4ba47b60-6504-4ba9-aad0-5094a6b7b738",
   "metadata": {},
   "outputs": [
    {
     "name": "stdout",
     "output_type": "stream",
     "text": [
      "\n",
      "[Epoch 1/10]\n",
      "Train Loss: 0.2663 | Train Acc: 0.8897\n",
      "Val Loss: 0.1591 | Val Acc: 0.9352\n",
      "\n",
      "[Epoch 2/10]\n",
      "Train Loss: 0.1363 | Train Acc: 0.9474\n",
      "Val Loss: 0.1480 | Val Acc: 0.9441\n",
      "\n",
      "[Epoch 3/10]\n",
      "Train Loss: 0.0901 | Train Acc: 0.9664\n",
      "Val Loss: 0.1625 | Val Acc: 0.9383\n",
      "\n",
      "[Epoch 4/10]\n",
      "Train Loss: 0.0624 | Train Acc: 0.9772\n",
      "Val Loss: 0.1563 | Val Acc: 0.9486\n",
      "\n",
      "[Epoch 5/10]\n",
      "Train Loss: 0.0503 | Train Acc: 0.9818\n",
      "Val Loss: 0.1607 | Val Acc: 0.9440\n",
      "\n",
      "[Epoch 6/10]\n",
      "Train Loss: 0.0420 | Train Acc: 0.9847\n",
      "Val Loss: 0.1402 | Val Acc: 0.9548\n",
      "\n",
      "[Epoch 7/10]\n",
      "Train Loss: 0.0378 | Train Acc: 0.9864\n",
      "Val Loss: 0.1422 | Val Acc: 0.9583\n",
      "\n",
      "[Epoch 8/10]\n",
      "Train Loss: 0.0328 | Train Acc: 0.9880\n",
      "Val Loss: 0.1702 | Val Acc: 0.9525\n",
      "\n",
      "[Epoch 9/10]\n",
      "Train Loss: 0.0308 | Train Acc: 0.9897\n",
      "Val Loss: 0.1317 | Val Acc: 0.9532\n",
      "\n",
      "[Epoch 10/10]\n",
      "Train Loss: 0.0264 | Train Acc: 0.9907\n",
      "Val Loss: 0.1398 | Val Acc: 0.9532\n"
     ]
    }
   ],
   "source": [
    "# training loops for 10 epochs\n",
    "\n",
    "num_epochs = 10\n",
    "train_losses, val_losses, train_accs, val_accs = [], [], [], []\n",
    "\n",
    "for epoch in range(num_epochs):\n",
    "    print(f\"\\n[Epoch {epoch+1}/{num_epochs}]\")\n",
    "\n",
    "    # training loop \n",
    "    model.train()\n",
    "    total_loss, correct, total = 0, 0, 0\n",
    "\n",
    "    for x, y in train_loader:\n",
    "        x, y = x.to(device), y.to(device).float()\n",
    "\n",
    "        out = model(x).squeeze()\n",
    "        loss = criterion(out, y)\n",
    "\n",
    "        optimizer.zero_grad()\n",
    "        loss.backward()\n",
    "        optimizer.step()\n",
    "\n",
    "        total_loss += loss.item()\n",
    "        preds = (torch.sigmoid(out) > 0.5).float()\n",
    "        correct += (preds == y).sum().item()\n",
    "        total += y.size(0)\n",
    "\n",
    "    train_loss = total_loss / len(train_loader)\n",
    "    train_acc = correct / total\n",
    "    train_losses.append(train_loss)\n",
    "    train_accs.append(train_acc)\n",
    "\n",
    "    print(f\"Train Loss: {train_loss:.4f} | Train Acc: {train_acc:.4f}\")\n",
    "\n",
    "    # validation loop on our val dataset \n",
    "    model.eval()\n",
    "    total_loss, correct, total = 0, 0, 0\n",
    "\n",
    "    with torch.no_grad():\n",
    "        for x, y in val_loader:\n",
    "            x, y = x.to(device), y.to(device).float()\n",
    "\n",
    "            out = model(x).squeeze()\n",
    "            loss = criterion(out, y)\n",
    "\n",
    "            total_loss += loss.item()\n",
    "            preds = (torch.sigmoid(out) > 0.5).float()\n",
    "            correct += (preds == y).sum().item()\n",
    "            total += y.size(0)\n",
    "\n",
    "    val_loss = total_loss / len(val_loader)\n",
    "    val_acc = correct / total\n",
    "    val_losses.append(val_loss)\n",
    "    val_accs.append(val_acc)\n",
    "\n",
    "    print(f\"Val Loss: {val_loss:.4f} | Val Acc: {val_acc:.4f}\")"
   ]
  },
  {
   "cell_type": "markdown",
   "id": "0d72431e-a1cb-4da8-b297-ef24d300448e",
   "metadata": {},
   "source": [
    "## Saving Model and displaying the Classification Report and Confusion Matrix "
   ]
  },
  {
   "cell_type": "code",
   "execution_count": 27,
   "id": "828960f2-c2d8-4802-8c08-5347e92c3c4c",
   "metadata": {},
   "outputs": [
    {
     "name": "stdout",
     "output_type": "stream",
     "text": [
      "✅ Model saved!\n"
     ]
    }
   ],
   "source": [
    "torch.save(model.state_dict(), \"xception_faceforensics_final.pt\")\n",
    "print(\"✅ Model saved!\")"
   ]
  },
  {
   "cell_type": "code",
   "execution_count": 28,
   "id": "74b62ef2-18bb-42d4-a1a9-fddaae2da38f",
   "metadata": {},
   "outputs": [],
   "source": [
    "# from the saved training logs file, we ge the losses and accruacy values for both training and validation\n",
    "with open(\"training_logs.pkl\", \"wb\") as f:\n",
    "    pickle.dump({\n",
    "        \"train_losses\": train_losses,\n",
    "        \"train_accs\": train_accs,\n",
    "        \"val_losses\": val_losses,\n",
    "        \"val_accs\": val_accs,\n",
    "    }, f)"
   ]
  },
  {
   "cell_type": "code",
   "execution_count": 29,
   "id": "2a7ea85b-a416-4dd1-8a7e-ef11e43248fa",
   "metadata": {},
   "outputs": [
    {
     "data": {
      "image/png": "[encoded data removed]",
      "text/plain": [
       "<Figure size 1200x500 with 2 Axes>"
      ]
     },
     "metadata": {},
     "output_type": "display_data"
    }
   ],
   "source": [
    "# plot of the accuracy loss curves for both Training and validation dataset using the matplotlib\n",
    "\n",
    "import matplotlib.pyplot as plt\n",
    "\n",
    "def plot_curves(train_losses, val_losses, train_accs, val_accs):\n",
    "    plt.figure(figsize=(12, 5))\n",
    "\n",
    "    plt.subplot(1, 2, 1)\n",
    "    plt.plot(train_losses, label=\"Train Loss\")\n",
    "    plt.plot(val_losses, label=\"Val Loss\")\n",
    "    plt.title(\"Loss Over Epochs\")\n",
    "    plt.xlabel(\"Epoch\")\n",
    "    plt.ylabel(\"Loss\")\n",
    "    plt.legend()\n",
    "\n",
    "    plt.subplot(1, 2, 2)\n",
    "    plt.plot(train_accs, label=\"Train Acc\")\n",
    "    plt.plot(val_accs, label=\"Val Acc\")\n",
    "    plt.title(\"Accuracy Over Epochs\")\n",
    "    plt.xlabel(\"Epoch\")\n",
    "    plt.ylabel(\"Accuracy\")\n",
    "    plt.legend()\n",
    "\n",
    "    plt.tight_layout()\n",
    "    plt.show()\n",
    "\n",
    "plot_curves(train_losses, val_losses, train_accs, val_accs)"
   ]
  },
  {
   "cell_type": "markdown",
   "id": "b7879e50-81ca-4491-ab26-9558c8fd09cc",
   "metadata": {},
   "source": [
    "# Evaluation of the model on the Test Dataset "
   ]
  },
  {
   "cell_type": "code",
   "execution_count": 30,
   "id": "021a1944-32f7-4ce3-8525-0a6e7e972c74",
   "metadata": {},
   "outputs": [
    {
     "name": "stdout",
     "output_type": "stream",
     "text": [
      "🎯 Final Test Accuracy: 0.9541\n"
     ]
    }
   ],
   "source": [
    "# evaluation function \n",
    "def evaluate(model, loader):\n",
    "    model.eval()\n",
    "    correct, total = 0, 0\n",
    "    with torch.no_grad():\n",
    "        for x, y in loader:\n",
    "            x, y = x.to(device), y.to(device).float()\n",
    "            out = model(x).squeeze()\n",
    "            preds = (torch.sigmoid(out) > 0.5).float()\n",
    "            correct += (preds == y).sum().item()\n",
    "            total += y.size(0)\n",
    "    print(f\"🎯 Final Test Accuracy: {correct / total:.4f}\")\n",
    "\n",
    "evaluate(model, test_loader)"
   ]
  },
  {
   "cell_type": "markdown",
   "id": "07a21263-539f-4ce3-9379-ad4ee4688141",
   "metadata": {},
   "source": [
    "### Classification Report "
   ]
  },
  {
   "cell_type": "code",
   "execution_count": 31,
   "id": "00b99c1f-0592-4c20-ae0d-8312dc7ebfa2",
   "metadata": {},
   "outputs": [
    {
     "name": "stdout",
     "output_type": "stream",
     "text": [
      "              precision    recall  f1-score   support\n",
      "\n",
      "        Fake       0.96      0.99      0.97      5250\n",
      "        Real       0.92      0.79      0.85      1050\n",
      "\n",
      "    accuracy                           0.95      6300\n",
      "   macro avg       0.94      0.89      0.91      6300\n",
      "weighted avg       0.95      0.95      0.95      6300\n",
      "\n"
     ]
    }
   ],
   "source": [
    "\n",
    "from sklearn.metrics import classification_report\n",
    "\n",
    "all_preds = []\n",
    "all_labels = []\n",
    "\n",
    "model.eval()\n",
    "with torch.no_grad():\n",
    "    for x, y in test_loader:\n",
    "        x = x.to(device)\n",
    "        y = y.to(device).float()\n",
    "        out = model(x).squeeze()\n",
    "        preds = (torch.sigmoid(out) > 0.5).float()\n",
    "        all_preds.extend(preds.cpu().numpy())\n",
    "        all_labels.extend(y.cpu().numpy())\n",
    "\n",
    "print(classification_report(all_labels, all_preds, target_names=[\"Fake\", \"Real\"]))"
   ]
  },
  {
   "cell_type": "markdown",
   "id": "7f24790f-a598-41bb-ab86-13aeb267c49c",
   "metadata": {},
   "source": [
    "## Confusion matrix"
   ]
  },
  {
   "cell_type": "code",
   "execution_count": 33,
   "id": "7229ed9e-1bf2-4316-8497-d32b63696b1c",
   "metadata": {},
   "outputs": [
    {
     "data": {
      "image/png": "[encoded data removed]",
      "text/plain": [
       "<Figure size 500x500 with 2 Axes>"
      ]
     },
     "metadata": {},
     "output_type": "display_data"
    }
   ],
   "source": [
    "from sklearn.metrics import confusion_matrix, ConfusionMatrixDisplay\n",
    "import matplotlib.pyplot as plt\n",
    "import numpy as np\n",
    "all_preds = []\n",
    "all_labels = []\n",
    "\n",
    "model.eval()\n",
    "with torch.no_grad():\n",
    "    for x, y in test_loader:\n",
    "        x = x.to(device)\n",
    "        y = y.to(device).float()\n",
    "        outputs = model(x).squeeze()\n",
    "        preds = (torch.sigmoid(outputs) > 0.5).float()\n",
    "        all_preds.extend(preds.cpu().numpy())\n",
    "        all_labels.extend(y.cpu().numpy())\n",
    "cm = confusion_matrix(all_labels, all_preds)\n",
    "disp = ConfusionMatrixDisplay(confusion_matrix=cm, display_labels=[\"Fake\", \"Real\"])\n",
    "fig, ax = plt.subplots(figsize=(5, 5))\n",
    "disp.plot(cmap=plt.cm.Blues, ax=ax)\n",
    "plt.title(\"Confusion Matrix\")\n",
    "plt.show()"
   ]
  },
  {
   "cell_type": "markdown",
   "id": "851e718c-0c18-48ad-b85f-e723e445726e",
   "metadata": {},
   "source": [
    "## Testing the model with 10 random videos "
   ]
  },
  {
   "cell_type": "code",
   "execution_count": 58,
   "id": "8c06096b-e245-443f-ae6c-d82b6d84ef2f",
   "metadata": {},
   "outputs": [
    {
     "name": "stdout",
     "output_type": "stream",
     "text": [
      "\n",
      "🎬 [1/10] Processing: 733.mp4\n",
      "🧮 Real: 18 (100.00%) | Fake: 0 (0.00%) | Skipped (no face): 0\n",
      "✅ Final Verdict: Real\n",
      "\n",
      "🎬 [2/10] Processing: 539.mp4\n",
      "🧮 Real: 10 (90.91%) | Fake: 1 (9.09%) | Skipped (no face): 0\n",
      "✅ Final Verdict: Real\n",
      "\n",
      "🎬 [3/10] Processing: 193.mp4\n",
      "🧮 Real: 13 (100.00%) | Fake: 0 (0.00%) | Skipped (no face): 0\n",
      "✅ Final Verdict: Real\n",
      "\n",
      "🎬 [4/10] Processing: 223.mp4\n",
      "🧮 Real: 12 (100.00%) | Fake: 0 (0.00%) | Skipped (no face): 0\n",
      "✅ Final Verdict: Real\n",
      "\n",
      "🎬 [5/10] Processing: 370.mp4\n",
      "🧮 Real: 13 (92.86%) | Fake: 1 (7.14%) | Skipped (no face): 0\n",
      "✅ Final Verdict: Real\n",
      "\n",
      "🎬 [6/10] Processing: 108.mp4\n",
      "🧮 Real: 10 (100.00%) | Fake: 0 (0.00%) | Skipped (no face): 0\n",
      "✅ Final Verdict: Real\n",
      "\n",
      "🎬 [7/10] Processing: 583.mp4\n",
      "🧮 Real: 16 (100.00%) | Fake: 0 (0.00%) | Skipped (no face): 0\n",
      "✅ Final Verdict: Real\n",
      "\n",
      "🎬 [8/10] Processing: 736.mp4\n",
      "🧮 Real: 11 (78.57%) | Fake: 3 (21.43%) | Skipped (no face): 0\n",
      "✅ Final Verdict: Real\n",
      "\n",
      "🎬 [9/10] Processing: 131.mp4\n",
      "🧮 Real: 8 (72.73%) | Fake: 3 (27.27%) | Skipped (no face): 0\n",
      "✅ Final Verdict: Real\n",
      "\n",
      "🎬 [10/10] Processing: 955.mp4\n",
      "🧮 Real: 18 (100.00%) | Fake: 0 (0.00%) | Skipped (no face): 0\n",
      "✅ Final Verdict: Real\n"
     ]
    }
   ],
   "source": [
    "import os\n",
    "import cv2\n",
    "import torch\n",
    "import timm\n",
    "import random\n",
    "import dlib\n",
    "import numpy as np\n",
    "from PIL import Image\n",
    "from tqdm import tqdm\n",
    "from torchvision import transforms\n",
    "\n",
    "# --- Device ---\n",
    "device = torch.device(\"cuda\" if torch.cuda.is_available() else \"cpu\")\n",
    "\n",
    "# --- Model Loading ---\n",
    "model = timm.create_model(\"legacy_xception\", pretrained=False, num_classes=1)\n",
    "model.load_state_dict(torch.load(\"xception_faceforensics_final.pt\", map_location=device))\n",
    "model.to(device)\n",
    "model.eval()\n",
    "\n",
    "# --- Transform (same as training) ---\n",
    "transform = transforms.Compose([\n",
    "    transforms.Resize((256, 256)),\n",
    "    transforms.ToTensor(),\n",
    "    transforms.Normalize([0.5]*3, [0.5]*3)\n",
    "])\n",
    "\n",
    "# --- Dlib Face Detector ---\n",
    "face_detector = dlib.get_frontal_face_detector()\n",
    "\n",
    "# --- Face-based Predict Frame Function ---\n",
    "def predict_frame_with_face(frame):\n",
    "    rgb = cv2.cvtColor(frame, cv2.COLOR_BGR2RGB)\n",
    "    faces = face_detector(rgb)\n",
    "\n",
    "    for face in faces:\n",
    "        x, y, w, h = face.left(), face.top(), face.width(), face.height()\n",
    "        new_w, new_h = int(w * 1.5), int(h * 1.5)\n",
    "        x = max(0, x - (new_w - w) // 2)\n",
    "        y = max(0, y - (new_h - h) // 2)\n",
    "        cropped = frame[y:y+new_h, x:x+new_w]\n",
    "\n",
    "        if cropped.size == 0:\n",
    "            continue\n",
    "\n",
    "        img = Image.fromarray(cv2.cvtColor(cropped, cv2.COLOR_BGR2RGB)).convert(\"RGB\")\n",
    "        img_tensor = transform(img).unsqueeze(0).to(device)\n",
    "\n",
    "        with torch.no_grad():\n",
    "            output = model(img_tensor).squeeze()\n",
    "            prob = torch.sigmoid(output).item()\n",
    "            pred_class = 1 if prob > 0.5 else 0\n",
    "            label = \"Real\" if pred_class == 1 else \"Fake\"\n",
    "        return label, prob, pred_class\n",
    "\n",
    "    # If no face is detected\n",
    "    return \"NoFace\", 0.0, -1\n",
    "\n",
    "# here is the file_path of the directory, you can change this file path as per your needs to check different classes\n",
    "video_dir = \"R:/Deepfake/FaceForensics++_C23/original\" \n",
    "video_files = [f for f in os.listdir(video_dir) if f.endswith(\".mp4\")]\n",
    "selected_videos = random.sample(video_files, min(10, len(video_files)))\n",
    "\n",
    "# loop for processing 10 videos \n",
    "for idx, video_file in enumerate(selected_videos, start=1):\n",
    "    video_path = os.path.join(video_dir, video_file)\n",
    "    cap = cv2.VideoCapture(video_path)\n",
    "\n",
    "    print(f\"\\n🎬 [{idx}/10] Processing: {video_file}\")\n",
    "\n",
    "    frame_count = 0\n",
    "    real_count, fake_count, skipped = 0, 0, 0\n",
    "\n",
    "    while cap.isOpened():\n",
    "        ret, frame = cap.read()\n",
    "        if not ret:\n",
    "            break\n",
    "\n",
    "        if frame_count % 30 == 0: \n",
    "            label, prob, pred_class = predict_frame_with_face(frame)\n",
    "\n",
    "            if pred_class == -1:\n",
    "                skipped += 1\n",
    "            elif pred_class == 1:\n",
    "                real_count += 1\n",
    "            else:\n",
    "                fake_count += 1\n",
    "\n",
    "        frame_count += 1\n",
    "\n",
    "    cap.release()\n",
    "\n",
    "    # final summary results based on the total frames counted as fake and real \n",
    "    total = real_count + fake_count\n",
    "    real_pct = (real_count / total) * 100 if total else 0\n",
    "    fake_pct = (fake_count / total) * 100 if total else 0\n",
    "    verdict = \"Real\" if real_count > fake_count else \"Fake\"\n",
    "\n",
    "    print(f\"🧮 Real: {real_count} ({real_pct:.2f}%) | Fake: {fake_count} ({fake_pct:.2f}%) | Skipped (no face): {skipped}\")\n",
    "    print(f\"✅ Final Verdict: {verdict}\")\n",
    "\n",
    "cv2.destroyAllWindows()"
   ]
  },
  {
   "cell_type": "code",
   "execution_count": null,
   "id": "1e094c76-d1aa-4da4-b8af-b4cb4f8e83eb",
   "metadata": {},
   "outputs": [],
   "source": []
  }
 ],
 "metadata": {
  "kernelspec": {
   "display_name": "Python (tensorflow)",
   "language": "python",
   "name": "tensorflow"
  },
  "language_info": {
   "codemirror_mode": {
    "name": "ipython",
    "version": 3
   },
   "file_extension": ".py",
   "mimetype": "text/x-python",
   "name": "python",
   "nbconvert_exporter": "python",
   "pygments_lexer": "ipython3",
   "version": "3.11.5"
  }
 },
 "nbformat": 4,
 "nbformat_minor": 5
}
